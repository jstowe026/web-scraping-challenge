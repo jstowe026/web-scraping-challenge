{
 "cells": [
  {
   "cell_type": "code",
   "execution_count": null,
   "metadata": {},
   "outputs": [],
   "source": [
    "#import dependencies\n",
    "from splinter import Browser\n",
    "from bs4 import BeautifulSoup\n",
    "import requests\n",
    "import pandas as pd"
   ]
  },
  {
   "cell_type": "code",
   "execution_count": null,
   "metadata": {},
   "outputs": [],
   "source": [
    "def init_browser():\n",
    "    executable_path = {'executable_path': 'chromedriver.exe'}\n",
    "    browser = Browser('chrome', **executable_path, headless=False)\n",
    "    return browser"
   ]
  },
  {
   "cell_type": "markdown",
   "metadata": {},
   "source": [
    "NASA Mars News Section"
   ]
  },
  {
   "cell_type": "code",
   "execution_count": null,
   "metadata": {},
   "outputs": [],
   "source": [
    "browser = init_browser()\n",
    "\n",
    "# Visit NASA News site\n",
    "url = 'https://mars.nasa.gov/news/'\n",
    "browser.visit(url)\n",
    "\n",
    "#Convert the browser html to a soup object and then quit the browser\n",
    "html = browser.html\n",
    "news_soup = BeautifulSoup(html, 'html.parser')\n",
    "\n",
    "slide_elem = news_soup.select_one('ul.item_list li.slide')\n",
    "\n",
    "def mars_news_scrape():\n",
    "    # Get the latest news title and paragraph text\n",
    "    news_title = slide_elem.find('div', class_='content_title').text\n",
    "    print(news_title)\n",
    "    \n",
    "    # Get the latest news paragraphs text\n",
    "    news_paragraph = slide_elem.find('div', class_='article_teaser_body').text\n",
    "    print(news_paragraph)\n",
    "      \n",
    "     # Store data in a dictionary\n",
    "    nasa_news_data = {\n",
    "        \"news_title\": news_title,\n",
    "        \"news_paragraph\": news_paragraph\n",
    "    }\n",
    "\n",
    "    # Return results\n",
    "    return nasa_news_data"
   ]
  },
  {
   "cell_type": "code",
   "execution_count": null,
   "metadata": {
    "scrolled": true
   },
   "outputs": [],
   "source": [
    "mars_news_scrape()"
   ]
  },
  {
   "cell_type": "markdown",
   "metadata": {},
   "source": [
    "JPL Mars Space Images - Featured Image Section"
   ]
  },
  {
   "cell_type": "code",
   "execution_count": null,
   "metadata": {},
   "outputs": [],
   "source": [
    "def mars_image_scrape():\n",
    "    browser = init_browser()\n",
    "    \n",
    "    # # Visit NASA JPL Mars Space full size featured image\n",
    "    url = 'https://www.jpl.nasa.gov/spaceimages/?search=&category=Mars'\n",
    "    browser.visit(url)\n",
    "\n",
    "    html = browser.html\n",
    "    image_soup = BeautifulSoup(html, 'html.parser')    \n",
    "    \n",
    "    image_elem = image_soup.select_one('div', class_='carousel_items')\n",
    "    \n",
    "    #find the image url for the current Featured Mars Image and \n",
    "    #assign the url string to a variable called featured_image_url\n",
    "    featured_image_path = image_elem.find('a', class_='button fancybox')[\"data-fancybox-href\"]\n",
    "    featured_img_url = url + featured_image_path\n",
    "    \n",
    "    # Store data in a dictionary\n",
    "    mars_image_data = {\n",
    "        \"featured_img_url\": featured_img_url\n",
    "    }\n",
    "    \n",
    "    return featured_img_url"
   ]
  },
  {
   "cell_type": "code",
   "execution_count": null,
   "metadata": {},
   "outputs": [],
   "source": [
    "mars_image_scrape()"
   ]
  },
  {
   "cell_type": "markdown",
   "metadata": {},
   "source": [
    "Mars Weather Section"
   ]
  },
  {
   "cell_type": "code",
   "execution_count": null,
   "metadata": {},
   "outputs": [],
   "source": [
    "def mars_weather_scrape():\n",
    "    browser = init_browser()\n",
    "    # Visit Mars Weather Twitter page\n",
    "    url = \"https://twitter.com/marswxreport?lang=en\"\n",
    "    browser.visit(url)\n",
    "\n",
    "    # Scrape page into Soup\n",
    "    html = browser.html\n",
    "    weather_soup = BeautifulSoup(html, \"html.parser\")\n",
    "    \n",
    "    tweet_elem = weather_soup.select_one('div', class_='css-1dbjc4n')\n",
    "    tweet = tweet_elem.select_one('div', class_='css-901oao r-hkyrab r-1qd0xha r-a023e6 r-16dba41 r-ad9z0x r-bcqeeo r-bnwqim r-qvutc0')\n",
    "    \n",
    "    #scrape the latest Mars weather tweet from the page. Save the tweet \n",
    "    #text for the weather report as a variable called mars_weather\n",
    "    mars_weather = tweet.find('span', class_= 'css-901oao css-16my406 r-1qd0xha r-ad9z0x r-bcqeeo r-qvutc0').get_text()\n",
    "    \n",
    "    # Store data in a dictionary\n",
    "    mars_weather_data = {\n",
    "        \"mars_weather\": mars_weather\n",
    "    }\n",
    "    \n",
    "    print(mars_weather)\n",
    "    \n",
    "    return mars_weather"
   ]
  },
  {
   "cell_type": "code",
   "execution_count": null,
   "metadata": {},
   "outputs": [],
   "source": [
    "mars_weather_scrape()"
   ]
  },
  {
   "cell_type": "markdown",
   "metadata": {},
   "source": [
    "Mars Fact Section"
   ]
  },
  {
   "cell_type": "code",
   "execution_count": null,
   "metadata": {},
   "outputs": [],
   "source": [
    "def mars_facts_scrape():\n",
    "    browser = init_browser()\n",
    "    url = 'https://space-facts.com/mars/'\n",
    "    \n",
    "    tables = pd.read_html(url)\n",
    "\n",
    "    #grab the first table\n",
    "    df = tables[0]\n",
    "    df.columns = ['Fact', 'Measurement']\n",
    "\n",
    "    #set index to Fact Column\n",
    "    df = df.iloc[1:]\n",
    "    df.set_index('Fact', inplace=True)\n",
    "    \n",
    "    #convert to html\n",
    "    html_table = df.to_html()\n",
    "    html_table.replace('\\n', '')\n",
    "    df.to_html('facts_table.html')\n",
    "    \n",
    "    return mars_facts_scrape"
   ]
  },
  {
   "cell_type": "code",
   "execution_count": null,
   "metadata": {},
   "outputs": [],
   "source": [
    "mars_facts_scrape()"
   ]
  },
  {
   "cell_type": "markdown",
   "metadata": {},
   "source": [
    "Mars Hemispheres"
   ]
  },
  {
   "cell_type": "code",
   "execution_count": null,
   "metadata": {},
   "outputs": [],
   "source": [
    "def mars_hemisphere_scrape():\n",
    "    browser = init_browser()\n",
    "    \n",
    "    # Visit NASA News site\n",
    "    url = 'https://astrogeology.usgs.gov/search/results?q=hemisphere+enhanced&k1=target&v1=Mars'\n",
    "    browser.visit(url)\n",
    "    \n",
    "     # Scrape page into Soup\n",
    "    html = browser.html\n",
    "    hem_soup = BeautifulSoup(html, \"html.parser\")\n",
    "    \n",
    "    # Retrieve the parent divs for all hemispheres\n",
    "    items = hem_soup.select_one('div.full-content' 'div.item')\n",
    "\n",
    "    # loop over results to get hemisphere data\n",
    "    for item in items:\n",
    "        \n",
    "        hemisphere_data = []\n",
    "    \n",
    "        # scrape the article header \n",
    "        hem_title = item.find('h3')\n",
    "    \n",
    "        relative_image_path = item.find('img')['href']\n",
    "        hem_img = url + relative_image_path\n",
    "\n",
    "        # Dictionary to be inserted into MongoDB\n",
    "        hem_data = {\n",
    "            'title': hem_title,\n",
    "            'image': hem_img\n",
    "        }\n",
    "        \n",
    "        hemisphere_data.append(hem_data)\n",
    "\n",
    "    # Return results\n",
    "    return hemisphere_data\n"
   ]
  },
  {
   "cell_type": "code",
   "execution_count": null,
   "metadata": {},
   "outputs": [],
   "source": [
    "mars_hemisphere_scrape()\n"
   ]
  },
  {
   "cell_type": "code",
   "execution_count": null,
   "metadata": {},
   "outputs": [],
   "source": [
    "#combine multiple dictionaries\n",
    "def Merge(nasa_news_data, mars_image_data, mars_weather_data, hemisphere_data):\n",
    "    mars_dict = {**nasa_news_data, **mars_image_data, **mars_weather_data, **hemisphere_data}\n",
    "    return mars_dict\n",
    "\n",
    "Merge()"
   ]
  }
 ],
 "metadata": {
  "kernelspec": {
   "display_name": "Python 3",
   "language": "python",
   "name": "python3"
  },
  "language_info": {
   "codemirror_mode": {
    "name": "ipython",
    "version": 3
   },
   "file_extension": ".py",
   "mimetype": "text/x-python",
   "name": "python",
   "nbconvert_exporter": "python",
   "pygments_lexer": "ipython3",
   "version": "3.6.9"
  }
 },
 "nbformat": 4,
 "nbformat_minor": 2
}
